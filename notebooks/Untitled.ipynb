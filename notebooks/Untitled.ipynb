{
 "cells": [
  {
   "cell_type": "code",
   "execution_count": 240,
   "metadata": {},
   "outputs": [],
   "source": [
    "import pandas as pd\n",
    "import sys\n",
    "import numpy as np\n",
    "from time import time\n",
    "from sklearn.svm import SVC\n",
    "import plotly.express as px\n",
    "sys.path.insert(1, \"../\")\n",
    "from sklearn.ensemble import RandomForestClassifier\n",
    "from sklearn.base import BaseEstimator, ClassifierMixin\n",
    "from sklearn.metrics import roc_auc_score, make_scorer\n",
    "from src.utils import input_dataset_path\n",
    "import src.preparation.process_data as p\n",
    "from importlib import reload\n",
    "p = reload(p)\n",
    "from sklearn.model_selection import RandomizedSearchCV, TimeSeriesSplit\n",
    "from sklearn.utils.estimator_checks import check_estimator"
   ]
  },
  {
   "cell_type": "code",
   "execution_count": 113,
   "metadata": {},
   "outputs": [
    {
     "data": {
      "text/plain": [
       "(12374, 37)"
      ]
     },
     "execution_count": 113,
     "metadata": {},
     "output_type": "execute_result"
    }
   ],
   "source": [
    "df = pd.read_csv(input_dataset_path(\"openstack\"))\n",
    "df.shape"
   ]
  },
  {
   "cell_type": "code",
   "execution_count": 117,
   "metadata": {},
   "outputs": [
    {
     "data": {
      "text/plain": [
       "(12374, 37)"
      ]
     },
     "execution_count": 117,
     "metadata": {},
     "output_type": "execute_result"
    }
   ],
   "source": [
    "df2 = p.filter_as_in_jit_moving_target(df, \"openstack\")\n",
    "df2.shape"
   ]
  },
  {
   "cell_type": "code",
   "execution_count": 48,
   "metadata": {},
   "outputs": [
    {
     "data": {
      "text/html": [
       "<div>\n",
       "<style scoped>\n",
       "    .dataframe tbody tr th:only-of-type {\n",
       "        vertical-align: middle;\n",
       "    }\n",
       "\n",
       "    .dataframe tbody tr th {\n",
       "        vertical-align: top;\n",
       "    }\n",
       "\n",
       "    .dataframe thead tr th {\n",
       "        text-align: left;\n",
       "    }\n",
       "\n",
       "    .dataframe thead tr:last-of-type th {\n",
       "        text-align: right;\n",
       "    }\n",
       "</style>\n",
       "<table border=\"1\" class=\"dataframe\">\n",
       "  <thead>\n",
       "    <tr>\n",
       "      <th></th>\n",
       "      <th colspan=\"8\" halign=\"left\">author_date</th>\n",
       "    </tr>\n",
       "    <tr>\n",
       "      <th></th>\n",
       "      <th>count</th>\n",
       "      <th>mean</th>\n",
       "      <th>std</th>\n",
       "      <th>min</th>\n",
       "      <th>25%</th>\n",
       "      <th>50%</th>\n",
       "      <th>75%</th>\n",
       "      <th>max</th>\n",
       "    </tr>\n",
       "    <tr>\n",
       "      <th>strata</th>\n",
       "      <th></th>\n",
       "      <th></th>\n",
       "      <th></th>\n",
       "      <th></th>\n",
       "      <th></th>\n",
       "      <th></th>\n",
       "      <th></th>\n",
       "      <th></th>\n",
       "    </tr>\n",
       "  </thead>\n",
       "  <tbody>\n",
       "    <tr>\n",
       "      <th>0</th>\n",
       "      <td>1669.0</td>\n",
       "      <td>1.330566e+09</td>\n",
       "      <td>4.116733e+06</td>\n",
       "      <td>1.322599e+09</td>\n",
       "      <td>1.327425e+09</td>\n",
       "      <td>1.330523e+09</td>\n",
       "      <td>1.333661e+09</td>\n",
       "      <td>1.338358e+09</td>\n",
       "    </tr>\n",
       "    <tr>\n",
       "      <th>1</th>\n",
       "      <td>2560.0</td>\n",
       "      <td>1.346473e+09</td>\n",
       "      <td>4.384766e+06</td>\n",
       "      <td>1.338392e+09</td>\n",
       "      <td>1.343233e+09</td>\n",
       "      <td>1.346251e+09</td>\n",
       "      <td>1.350576e+09</td>\n",
       "      <td>1.354155e+09</td>\n",
       "    </tr>\n",
       "    <tr>\n",
       "      <th>2</th>\n",
       "      <td>2864.0</td>\n",
       "      <td>1.361955e+09</td>\n",
       "      <td>4.420618e+06</td>\n",
       "      <td>1.354160e+09</td>\n",
       "      <td>1.358358e+09</td>\n",
       "      <td>1.361558e+09</td>\n",
       "      <td>1.365478e+09</td>\n",
       "      <td>1.369932e+09</td>\n",
       "    </tr>\n",
       "    <tr>\n",
       "      <th>3</th>\n",
       "      <td>3781.0</td>\n",
       "      <td>1.377436e+09</td>\n",
       "      <td>4.362250e+06</td>\n",
       "      <td>1.369941e+09</td>\n",
       "      <td>1.373876e+09</td>\n",
       "      <td>1.377094e+09</td>\n",
       "      <td>1.380879e+09</td>\n",
       "      <td>1.385704e+09</td>\n",
       "    </tr>\n",
       "    <tr>\n",
       "      <th>4</th>\n",
       "      <td>1500.0</td>\n",
       "      <td>1.389944e+09</td>\n",
       "      <td>2.367935e+06</td>\n",
       "      <td>1.385715e+09</td>\n",
       "      <td>1.387628e+09</td>\n",
       "      <td>1.389973e+09</td>\n",
       "      <td>1.392049e+09</td>\n",
       "      <td>1.393591e+09</td>\n",
       "    </tr>\n",
       "  </tbody>\n",
       "</table>\n",
       "</div>"
      ],
      "text/plain": [
       "       author_date                                                          \\\n",
       "             count          mean           std           min           25%   \n",
       "strata                                                                       \n",
       "0           1669.0  1.330566e+09  4.116733e+06  1.322599e+09  1.327425e+09   \n",
       "1           2560.0  1.346473e+09  4.384766e+06  1.338392e+09  1.343233e+09   \n",
       "2           2864.0  1.361955e+09  4.420618e+06  1.354160e+09  1.358358e+09   \n",
       "3           3781.0  1.377436e+09  4.362250e+06  1.369941e+09  1.373876e+09   \n",
       "4           1500.0  1.389944e+09  2.367935e+06  1.385715e+09  1.387628e+09   \n",
       "\n",
       "                                                  \n",
       "                 50%           75%           max  \n",
       "strata                                            \n",
       "0       1.330523e+09  1.333661e+09  1.338358e+09  \n",
       "1       1.346251e+09  1.350576e+09  1.354155e+09  \n",
       "2       1.361558e+09  1.365478e+09  1.369932e+09  \n",
       "3       1.377094e+09  1.380879e+09  1.385704e+09  \n",
       "4       1.389973e+09  1.392049e+09  1.393591e+09  "
      ]
     },
     "execution_count": 48,
     "metadata": {},
     "output_type": "execute_result"
    }
   ],
   "source": [
    "df.groupby('strata')[['author_date']].describe()"
   ]
  },
  {
   "cell_type": "code",
   "execution_count": 238,
   "metadata": {},
   "outputs": [],
   "source": [
    "class ClassifierWithFeatures(BaseEstimator, ClassifierMixin):\n",
    "    def __init__(self, model, features, **kwargs):\n",
    "        self.features = features\n",
    "        self.model = model(**kwargs)\n",
    "    def fit(self, X, y):\n",
    "        _X = X[list(self.features)]\n",
    "        self.model.fit(_X, y)\n",
    "    def predict_proba(self, X):\n",
    "        _X = X[list(self.features)]\n",
    "        if len(self.features) == 1:\n",
    "            _X = _X.values.reshape(-1, 1)\n",
    "        return self.model.predict_proba(_X)\n",
    "    def get_params(self, deep=True):\n",
    "        params = self.model.get_params(deep)\n",
    "        params['features'] = self.features\n",
    "        return params"
   ]
  },
  {
   "cell_type": "code",
   "execution_count": 241,
   "metadata": {},
   "outputs": [
    {
     "name": "stderr",
     "output_type": "stream",
     "text": [
      "/anaconda3/envs/jit-def-pred/lib/python3.7/site-packages/sklearn/svm/base.py:193: FutureWarning:\n",
      "\n",
      "The default value of gamma will change from 'auto' to 'scale' in version 0.22 to account better for unscaled features. Set gamma explicitly to 'auto' or 'scale' to avoid this warning.\n",
      "\n"
     ]
    }
   ],
   "source": [
    "rf = ClassifierWithFeatures(model=SVC, features=('la', 'nf'))\n",
    "rf.fit(df_train[used_columns], df_train[ycol])"
   ]
  },
  {
   "cell_type": "code",
   "execution_count": 239,
   "metadata": {},
   "outputs": [
    {
     "data": {
      "text/plain": [
       "{'bootstrap': True,\n",
       " 'class_weight': None,\n",
       " 'criterion': 'gini',\n",
       " 'max_depth': None,\n",
       " 'max_features': 'auto',\n",
       " 'max_leaf_nodes': None,\n",
       " 'min_impurity_decrease': 0.0,\n",
       " 'min_impurity_split': None,\n",
       " 'min_samples_leaf': 1,\n",
       " 'min_samples_split': 2,\n",
       " 'min_weight_fraction_leaf': 0.0,\n",
       " 'n_estimators': 10,\n",
       " 'n_jobs': None,\n",
       " 'oob_score': False,\n",
       " 'random_state': None,\n",
       " 'verbose': 0,\n",
       " 'warm_start': False,\n",
       " 'features': ('la', 'nf')}"
      ]
     },
     "execution_count": 239,
     "metadata": {},
     "output_type": "execute_result"
    }
   ],
   "source": [
    "rf.get_params(True)"
   ]
  },
  {
   "cell_type": "code",
   "execution_count": 136,
   "metadata": {},
   "outputs": [],
   "source": [
    "df['self'] = df['self'].astype(float)\n",
    "df.fillna({\"nrev\": 0, \"rtime\": 1.1*df.rtime.min(), 'hcmt': -1, 'app': -1, 'rexp': -1, 'self': -1, 'rrexp': -1, 'rsexp': -1}, inplace=True)\n",
    "df_train = df.query('strata < 4').sort_values(by='author_date')\n",
    "df_test = df.query('strata >= 4').sort_values(by='author_date')"
   ]
  },
  {
   "cell_type": "code",
   "execution_count": 137,
   "metadata": {},
   "outputs": [
    {
     "name": "stdout",
     "output_type": "stream",
     "text": [
      "21\n"
     ]
    }
   ],
   "source": [
    "used_columns = [\"la\", \"ld\", \"nf\", \"nd\", \"ns\", \"ent\", \"nrev\", \"rtime\", \"hcmt\", \"ndev\", \"age\", \"nuc\", \"app\", \"aexp\", \"rexp\", \"arexp\", \"rrexp\", \"asexp\", \"rsexp\", \"asawr\", \"rsawr\"]\n",
    "n_features = len(used_columns)\n",
    "print(n_features)\n",
    "ycol = \"buggy\""
   ]
  },
  {
   "cell_type": "code",
   "execution_count": 199,
   "metadata": {},
   "outputs": [
    {
     "data": {
      "text/plain": [
       "dict_keys(['features'])"
      ]
     },
     "execution_count": 199,
     "metadata": {},
     "output_type": "execute_result"
    }
   ],
   "source": [
    "rf.get_params().keys()"
   ]
  },
  {
   "cell_type": "code",
   "execution_count": 139,
   "metadata": {},
   "outputs": [],
   "source": [
    "# Utility function to report best scores\n",
    "def report(results, n_top=3):\n",
    "    for i in range(1, n_top + 1):\n",
    "        candidates = np.flatnonzero(results['rank_test_score'] == i)\n",
    "        for candidate in candidates:\n",
    "            print(\"Model with rank: {0}\".format(i))\n",
    "            print(\"Mean validation score: {0:.3f} (std: {1:.3f})\".format(\n",
    "                  results['mean_test_score'][candidate],\n",
    "                  results['std_test_score'][candidate]))\n",
    "            print(\"Parameters: {0}\".format(results['params'][candidate]))\n",
    "            print(\"\")"
   ]
  },
  {
   "cell_type": "code",
   "execution_count": 203,
   "metadata": {},
   "outputs": [
    {
     "data": {
      "text/plain": [
       "('a', 'b', 'f')"
      ]
     },
     "execution_count": 203,
     "metadata": {},
     "output_type": "execute_result"
    }
   ],
   "source": [
    "('a',) + ('b', 'f',)"
   ]
  },
  {
   "cell_type": "code",
   "execution_count": 232,
   "metadata": {},
   "outputs": [],
   "source": [
    "rf = RandomForestClassifierWithFeatures(features=(), random_state=0)\n",
    "cv = TimeSeriesSplit(5)\n",
    "parameters = {'criterion':['gini', 'entropy'], \n",
    "              'n_estimators': [10, 100, 500, 800],\n",
    "              'max_depth':[2, 5, 7, 15, 20], \n",
    "              'min_samples_split': [2, 10, 50, 100], \n",
    "              'min_samples_leaf': [1, 10, 50, 100], \n",
    "              #'max_features':[1, 2,int(n_features ** 0.5), 7, n_features],\n",
    "              'max_leaf_nodes':[None, 10, 100, 1000], \n",
    "              'min_impurity_decrease':[0.0, 1e-7, 1e-6, 1e-5, 1e-4, 1e-3, 0.01, 0.1, 1, 10],\n",
    "              'features': [('la'), ('la', 'nf')]\n",
    "             \n",
    "        }\n",
    "\n",
    "n_iter_search = 2\n",
    "n_jobs = -1\n",
    "scorer = make_scorer(roc_auc_score, needs_proba=True)"
   ]
  },
  {
   "cell_type": "code",
   "execution_count": 233,
   "metadata": {},
   "outputs": [
    {
     "name": "stdout",
     "output_type": "stream",
     "text": [
      "RandomizedSearchCV took 2.00 seconds for 2 candidates parameter settings.\n",
      "Model with rank: 1\n",
      "Mean validation score: 0.562 (std: 0.025)\n",
      "Parameters: {'n_estimators': 10, 'min_samples_split': 100, 'min_samples_leaf': 50, 'min_impurity_decrease': 0.0001, 'max_leaf_nodes': 100, 'max_depth': 5, 'features': ('la', 'nf'), 'criterion': 'gini'}\n",
      "\n",
      "Model with rank: 1\n",
      "Mean validation score: 0.562 (std: 0.025)\n",
      "Parameters: {'n_estimators': 100, 'min_samples_split': 50, 'min_samples_leaf': 100, 'min_impurity_decrease': 1e-05, 'max_leaf_nodes': 10, 'max_depth': 7, 'features': ('la', 'nf'), 'criterion': 'entropy'}\n",
      "\n"
     ]
    },
    {
     "name": "stderr",
     "output_type": "stream",
     "text": [
      "/anaconda3/envs/jit-def-pred/lib/python3.7/site-packages/sklearn/ensemble/forest.py:245: FutureWarning:\n",
      "\n",
      "The default value of n_estimators will change from 10 in version 0.20 to 100 in 0.22.\n",
      "\n"
     ]
    }
   ],
   "source": [
    "# run randomized search\n",
    "random_search = RandomizedSearchCV(rf, param_distributions=parameters, n_iter=n_iter_search, \n",
    "                                   n_jobs=n_jobs, cv=cv, scoring=scorer, iid=False)\n",
    "start = time()\n",
    "random_search.fit(df_train[used_columns], df_train[ycol])\n",
    "print(\"RandomizedSearchCV took %.2f seconds for %d candidates\"\n",
    "      \" parameter settings.\" % ((time() - start), n_iter_search))\n",
    "report(random_search.cv_results_)"
   ]
  },
  {
   "cell_type": "code",
   "execution_count": 148,
   "metadata": {},
   "outputs": [
    {
     "data": {
      "text/plain": [
       "RandomForestClassifier(bootstrap=True, class_weight=None, criterion='gini',\n",
       "                       max_depth=7, max_features='auto', max_leaf_nodes=None,\n",
       "                       min_impurity_decrease=0.0, min_impurity_split=None,\n",
       "                       min_samples_leaf=1, min_samples_split=2,\n",
       "                       min_weight_fraction_leaf=0.0, n_estimators=100,\n",
       "                       n_jobs=None, oob_score=False, random_state=0, verbose=0,\n",
       "                       warm_start=False)"
      ]
     },
     "execution_count": 148,
     "metadata": {},
     "output_type": "execute_result"
    }
   ],
   "source": [
    "rf = RandomForestClassifier(100, random_state=0, max_depth=7)\n",
    "rf.fit(df_train[used_columns], df_train[ycol])"
   ]
  },
  {
   "cell_type": "code",
   "execution_count": 146,
   "metadata": {},
   "outputs": [],
   "source": [
    "rfb = random_search.best_estimator_"
   ]
  },
  {
   "cell_type": "code",
   "execution_count": 152,
   "metadata": {},
   "outputs": [],
   "source": [
    "features_by_imp = feature_importances.index.tolist()"
   ]
  },
  {
   "cell_type": "code",
   "execution_count": 149,
   "metadata": {},
   "outputs": [],
   "source": [
    "feature_importances = pd.DataFrame(rf.feature_importances_,\n",
    "                                   index = used_columns,\n",
    "                                    columns=['importance']).sort_values('importance',ascending=False)"
   ]
  },
  {
   "cell_type": "code",
   "execution_count": null,
   "metadata": {},
   "outputs": [],
   "source": [
    "features_by_imp  "
   ]
  },
  {
   "cell_type": "code",
   "execution_count": 166,
   "metadata": {},
   "outputs": [],
   "source": [
    "def append_and_return(l, el):\n",
    "    l.append(el)\n",
    "    return l.copy()"
   ]
  },
  {
   "cell_type": "code",
   "execution_count": 167,
   "metadata": {},
   "outputs": [],
   "source": [
    "l = []"
   ]
  },
  {
   "cell_type": "code",
   "execution_count": 168,
   "metadata": {},
   "outputs": [],
   "source": [
    "r = [append_and_return(l, f) for f in features_by_imp]"
   ]
  },
  {
   "cell_type": "code",
   "execution_count": 1,
   "metadata": {},
   "outputs": [
    {
     "ename": "NameError",
     "evalue": "name 'roc_auc_score' is not defined",
     "output_type": "error",
     "traceback": [
      "\u001b[0;31m---------------------------------------------------------------------------\u001b[0m",
      "\u001b[0;31mNameError\u001b[0m                                 Traceback (most recent call last)",
      "\u001b[0;32m<ipython-input-1-554d086a01c9>\u001b[0m in \u001b[0;36m<module>\u001b[0;34m\u001b[0m\n\u001b[0;32m----> 1\u001b[0;31m \u001b[0mroc_auc_score\u001b[0m\u001b[0;34m(\u001b[0m\u001b[0mdf_test\u001b[0m\u001b[0;34m[\u001b[0m\u001b[0mycol\u001b[0m\u001b[0;34m]\u001b[0m\u001b[0;34m,\u001b[0m \u001b[0mrandom_search\u001b[0m\u001b[0;34m.\u001b[0m\u001b[0mpredict_proba\u001b[0m\u001b[0;34m(\u001b[0m\u001b[0mdf_test\u001b[0m\u001b[0;34m[\u001b[0m\u001b[0mused_columns\u001b[0m\u001b[0;34m]\u001b[0m\u001b[0;34m)\u001b[0m\u001b[0;34m[\u001b[0m\u001b[0;34m:\u001b[0m\u001b[0;34m,\u001b[0m\u001b[0;36m1\u001b[0m\u001b[0;34m]\u001b[0m\u001b[0;34m)\u001b[0m\u001b[0;34m\u001b[0m\u001b[0;34m\u001b[0m\u001b[0m\n\u001b[0m",
      "\u001b[0;31mNameError\u001b[0m: name 'roc_auc_score' is not defined"
     ]
    }
   ],
   "source": [
    "roc_auc_score(df_test[ycol], random_search.predict_proba(df_test[used_columns])[:,1])"
   ]
  },
  {
   "cell_type": "code",
   "execution_count": 169,
   "metadata": {},
   "outputs": [
    {
     "data": {
      "text/plain": [
       "[['la'],\n",
       " ['la', 'nrev'],\n",
       " ['la', 'nrev', 'nf'],\n",
       " ['la', 'nrev', 'nf', 'ent'],\n",
       " ['la', 'nrev', 'nf', 'ent', 'ld'],\n",
       " ['la', 'nrev', 'nf', 'ent', 'ld', 'rtime'],\n",
       " ['la', 'nrev', 'nf', 'ent', 'ld', 'rtime', 'hcmt'],\n",
       " ['la', 'nrev', 'nf', 'ent', 'ld', 'rtime', 'hcmt', 'nd'],\n",
       " ['la', 'nrev', 'nf', 'ent', 'ld', 'rtime', 'hcmt', 'nd', 'rsawr'],\n",
       " ['la', 'nrev', 'nf', 'ent', 'ld', 'rtime', 'hcmt', 'nd', 'rsawr', 'asawr'],\n",
       " ['la',\n",
       "  'nrev',\n",
       "  'nf',\n",
       "  'ent',\n",
       "  'ld',\n",
       "  'rtime',\n",
       "  'hcmt',\n",
       "  'nd',\n",
       "  'rsawr',\n",
       "  'asawr',\n",
       "  'ndev'],\n",
       " ['la',\n",
       "  'nrev',\n",
       "  'nf',\n",
       "  'ent',\n",
       "  'ld',\n",
       "  'rtime',\n",
       "  'hcmt',\n",
       "  'nd',\n",
       "  'rsawr',\n",
       "  'asawr',\n",
       "  'ndev',\n",
       "  'rsexp'],\n",
       " ['la',\n",
       "  'nrev',\n",
       "  'nf',\n",
       "  'ent',\n",
       "  'ld',\n",
       "  'rtime',\n",
       "  'hcmt',\n",
       "  'nd',\n",
       "  'rsawr',\n",
       "  'asawr',\n",
       "  'ndev',\n",
       "  'rsexp',\n",
       "  'nuc'],\n",
       " ['la',\n",
       "  'nrev',\n",
       "  'nf',\n",
       "  'ent',\n",
       "  'ld',\n",
       "  'rtime',\n",
       "  'hcmt',\n",
       "  'nd',\n",
       "  'rsawr',\n",
       "  'asawr',\n",
       "  'ndev',\n",
       "  'rsexp',\n",
       "  'nuc',\n",
       "  'rrexp'],\n",
       " ['la',\n",
       "  'nrev',\n",
       "  'nf',\n",
       "  'ent',\n",
       "  'ld',\n",
       "  'rtime',\n",
       "  'hcmt',\n",
       "  'nd',\n",
       "  'rsawr',\n",
       "  'asawr',\n",
       "  'ndev',\n",
       "  'rsexp',\n",
       "  'nuc',\n",
       "  'rrexp',\n",
       "  'rexp'],\n",
       " ['la',\n",
       "  'nrev',\n",
       "  'nf',\n",
       "  'ent',\n",
       "  'ld',\n",
       "  'rtime',\n",
       "  'hcmt',\n",
       "  'nd',\n",
       "  'rsawr',\n",
       "  'asawr',\n",
       "  'ndev',\n",
       "  'rsexp',\n",
       "  'nuc',\n",
       "  'rrexp',\n",
       "  'rexp',\n",
       "  'age'],\n",
       " ['la',\n",
       "  'nrev',\n",
       "  'nf',\n",
       "  'ent',\n",
       "  'ld',\n",
       "  'rtime',\n",
       "  'hcmt',\n",
       "  'nd',\n",
       "  'rsawr',\n",
       "  'asawr',\n",
       "  'ndev',\n",
       "  'rsexp',\n",
       "  'nuc',\n",
       "  'rrexp',\n",
       "  'rexp',\n",
       "  'age',\n",
       "  'aexp'],\n",
       " ['la',\n",
       "  'nrev',\n",
       "  'nf',\n",
       "  'ent',\n",
       "  'ld',\n",
       "  'rtime',\n",
       "  'hcmt',\n",
       "  'nd',\n",
       "  'rsawr',\n",
       "  'asawr',\n",
       "  'ndev',\n",
       "  'rsexp',\n",
       "  'nuc',\n",
       "  'rrexp',\n",
       "  'rexp',\n",
       "  'age',\n",
       "  'aexp',\n",
       "  'arexp'],\n",
       " ['la',\n",
       "  'nrev',\n",
       "  'nf',\n",
       "  'ent',\n",
       "  'ld',\n",
       "  'rtime',\n",
       "  'hcmt',\n",
       "  'nd',\n",
       "  'rsawr',\n",
       "  'asawr',\n",
       "  'ndev',\n",
       "  'rsexp',\n",
       "  'nuc',\n",
       "  'rrexp',\n",
       "  'rexp',\n",
       "  'age',\n",
       "  'aexp',\n",
       "  'arexp',\n",
       "  'asexp'],\n",
       " ['la',\n",
       "  'nrev',\n",
       "  'nf',\n",
       "  'ent',\n",
       "  'ld',\n",
       "  'rtime',\n",
       "  'hcmt',\n",
       "  'nd',\n",
       "  'rsawr',\n",
       "  'asawr',\n",
       "  'ndev',\n",
       "  'rsexp',\n",
       "  'nuc',\n",
       "  'rrexp',\n",
       "  'rexp',\n",
       "  'age',\n",
       "  'aexp',\n",
       "  'arexp',\n",
       "  'asexp',\n",
       "  'app'],\n",
       " ['la',\n",
       "  'nrev',\n",
       "  'nf',\n",
       "  'ent',\n",
       "  'ld',\n",
       "  'rtime',\n",
       "  'hcmt',\n",
       "  'nd',\n",
       "  'rsawr',\n",
       "  'asawr',\n",
       "  'ndev',\n",
       "  'rsexp',\n",
       "  'nuc',\n",
       "  'rrexp',\n",
       "  'rexp',\n",
       "  'age',\n",
       "  'aexp',\n",
       "  'arexp',\n",
       "  'asexp',\n",
       "  'app',\n",
       "  'ns']]"
      ]
     },
     "execution_count": 169,
     "metadata": {},
     "output_type": "execute_result"
    }
   ],
   "source": [
    "r"
   ]
  },
  {
   "cell_type": "code",
   "execution_count": null,
   "metadata": {},
   "outputs": [],
   "source": []
  },
  {
   "cell_type": "code",
   "execution_count": 91,
   "metadata": {},
   "outputs": [
    {
     "data": {
      "text/plain": [
       "0.7837060568741603"
      ]
     },
     "execution_count": 91,
     "metadata": {},
     "output_type": "execute_result"
    }
   ],
   "source": [
    "roc_auc_score(df_test[ycol], random_search.predict_proba(df_test[used_columns])[:,1])"
   ]
  },
  {
   "cell_type": "code",
   "execution_count": null,
   "metadata": {},
   "outputs": [],
   "source": [
    "random_search.predict_proba(df_test[used_columns])[:1]"
   ]
  },
  {
   "cell_type": "code",
   "execution_count": 11,
   "metadata": {},
   "outputs": [
    {
     "data": {
      "text/plain": [
       "RandomForestClassifier(bootstrap=True, class_weight=None, criterion='gini',\n",
       "                       max_depth=7, max_features='auto', max_leaf_nodes=None,\n",
       "                       min_impurity_decrease=0.0, min_impurity_split=None,\n",
       "                       min_samples_leaf=1, min_samples_split=2,\n",
       "                       min_weight_fraction_leaf=0.0, n_estimators=100,\n",
       "                       n_jobs=None, oob_score=False, random_state=0, verbose=0,\n",
       "                       warm_start=False)"
      ]
     },
     "execution_count": 11,
     "metadata": {},
     "output_type": "execute_result"
    }
   ],
   "source": [
    "clf = RandomForestClassifier(n_estimators=100, max_depth=7,random_state=0)\n",
    "clf.fit(df_train[used_columns], df_train[ycol])  "
   ]
  },
  {
   "cell_type": "code",
   "execution_count": 12,
   "metadata": {},
   "outputs": [
    {
     "data": {
      "text/plain": [
       "0.7713557993730408"
      ]
     },
     "execution_count": 12,
     "metadata": {},
     "output_type": "execute_result"
    }
   ],
   "source": [
    "y_pred = clf.predict_proba(df_test[used_columns])[:,1]\n",
    "roc_auc_score(df_test[ycol], y_pred)"
   ]
  },
  {
   "cell_type": "code",
   "execution_count": 30,
   "metadata": {},
   "outputs": [],
   "source": [
    "feature_importances = pd.DataFrame(clf.feature_importances_,\n",
    "                                   index = used_columns,\n",
    "                                    columns=['importance']).sort_values('importance',                                                                 ascending=False)"
   ]
  },
  {
   "cell_type": "code",
   "execution_count": 31,
   "metadata": {},
   "outputs": [
    {
     "data": {
      "text/html": [
       "<div>\n",
       "<style scoped>\n",
       "    .dataframe tbody tr th:only-of-type {\n",
       "        vertical-align: middle;\n",
       "    }\n",
       "\n",
       "    .dataframe tbody tr th {\n",
       "        vertical-align: top;\n",
       "    }\n",
       "\n",
       "    .dataframe thead th {\n",
       "        text-align: right;\n",
       "    }\n",
       "</style>\n",
       "<table border=\"1\" class=\"dataframe\">\n",
       "  <thead>\n",
       "    <tr style=\"text-align: right;\">\n",
       "      <th></th>\n",
       "      <th>importance</th>\n",
       "    </tr>\n",
       "  </thead>\n",
       "  <tbody>\n",
       "    <tr>\n",
       "      <th>la</th>\n",
       "      <td>1.0</td>\n",
       "    </tr>\n",
       "  </tbody>\n",
       "</table>\n",
       "</div>"
      ],
      "text/plain": [
       "    importance\n",
       "la         1.0"
      ]
     },
     "execution_count": 31,
     "metadata": {},
     "output_type": "execute_result"
    }
   ],
   "source": [
    "feature_importances"
   ]
  },
  {
   "cell_type": "code",
   "execution_count": 13,
   "metadata": {},
   "outputs": [
    {
     "data": {
      "text/html": [
       "<div>\n",
       "<style scoped>\n",
       "    .dataframe tbody tr th:only-of-type {\n",
       "        vertical-align: middle;\n",
       "    }\n",
       "\n",
       "    .dataframe tbody tr th {\n",
       "        vertical-align: top;\n",
       "    }\n",
       "\n",
       "    .dataframe thead th {\n",
       "        text-align: right;\n",
       "    }\n",
       "</style>\n",
       "<table border=\"1\" class=\"dataframe\">\n",
       "  <thead>\n",
       "    <tr style=\"text-align: right;\">\n",
       "      <th></th>\n",
       "      <th>count</th>\n",
       "      <th>mean</th>\n",
       "      <th>std</th>\n",
       "      <th>min</th>\n",
       "      <th>25%</th>\n",
       "      <th>50%</th>\n",
       "      <th>75%</th>\n",
       "      <th>max</th>\n",
       "    </tr>\n",
       "    <tr>\n",
       "      <th>buggy</th>\n",
       "      <th></th>\n",
       "      <th></th>\n",
       "      <th></th>\n",
       "      <th></th>\n",
       "      <th></th>\n",
       "      <th></th>\n",
       "      <th></th>\n",
       "      <th></th>\n",
       "    </tr>\n",
       "  </thead>\n",
       "  <tbody>\n",
       "    <tr>\n",
       "      <th>False</th>\n",
       "      <td>10758.0</td>\n",
       "      <td>60.68470</td>\n",
       "      <td>185.748370</td>\n",
       "      <td>1.0</td>\n",
       "      <td>4.0</td>\n",
       "      <td>16.0</td>\n",
       "      <td>48.0</td>\n",
       "      <td>4331.0</td>\n",
       "    </tr>\n",
       "    <tr>\n",
       "      <th>True</th>\n",
       "      <td>1616.0</td>\n",
       "      <td>187.92698</td>\n",
       "      <td>337.169187</td>\n",
       "      <td>1.0</td>\n",
       "      <td>27.0</td>\n",
       "      <td>75.0</td>\n",
       "      <td>199.5</td>\n",
       "      <td>3472.0</td>\n",
       "    </tr>\n",
       "  </tbody>\n",
       "</table>\n",
       "</div>"
      ],
      "text/plain": [
       "         count       mean         std  min   25%   50%    75%     max\n",
       "buggy                                                                \n",
       "False  10758.0   60.68470  185.748370  1.0   4.0  16.0   48.0  4331.0\n",
       "True    1616.0  187.92698  337.169187  1.0  27.0  75.0  199.5  3472.0"
      ]
     },
     "execution_count": 13,
     "metadata": {},
     "output_type": "execute_result"
    }
   ],
   "source": [
    "df.groupby('buggy').la.describe()"
   ]
  },
  {
   "cell_type": "code",
   "execution_count": 14,
   "metadata": {},
   "outputs": [],
   "source": [
    "import seaborn as sb"
   ]
  },
  {
   "cell_type": "code",
   "execution_count": 22,
   "metadata": {},
   "outputs": [],
   "source": [
    "df['la_bucket'] = pd.qcut(df.la, q=10)"
   ]
  },
  {
   "cell_type": "code",
   "execution_count": 26,
   "metadata": {},
   "outputs": [
    {
     "data": {
      "text/plain": [
       "<seaborn.axisgrid.FacetGrid at 0x1a2066c190>"
      ]
     },
     "execution_count": 26,
     "metadata": {},
     "output_type": "execute_result"
    },
    {
     "data": {
      "image/png": "[encoded data removed]",
      "text/plain": [
       "<Figure size 1008x504 with 1 Axes>"
      ]
     },
     "metadata": {
      "needs_background": "light"
     },
     "output_type": "display_data"
    }
   ],
   "source": [
    "sb.catplot(x='la_bucket', y='buggy', data=df, kind='point', height=7, aspect=2)"
   ]
  },
  {
   "cell_type": "code",
   "execution_count": 17,
   "metadata": {},
   "outputs": [
    {
     "ename": "AttributeError",
     "evalue": "module 'plotly.express' has no attribute 'relplot'",
     "output_type": "error",
     "traceback": [
      "\u001b[0;31m---------------------------------------------------------------------------\u001b[0m",
      "\u001b[0;31mAttributeError\u001b[0m                            Traceback (most recent call last)",
      "\u001b[0;32m<ipython-input-17-88856f5d31af>\u001b[0m in \u001b[0;36m<module>\u001b[0;34m\u001b[0m\n\u001b[0;32m----> 1\u001b[0;31m \u001b[0mpx\u001b[0m\u001b[0;34m.\u001b[0m\u001b[0mrelplot\u001b[0m\u001b[0;34m(\u001b[0m\u001b[0mdf\u001b[0m\u001b[0;34m,\u001b[0m \u001b[0mx\u001b[0m\u001b[0;34m=\u001b[0m\u001b[0;34m'la'\u001b[0m\u001b[0;34m,\u001b[0m \u001b[0my\u001b[0m\u001b[0;34m=\u001b[0m\u001b[0;34m'buggy'\u001b[0m\u001b[0;34m)\u001b[0m\u001b[0;34m\u001b[0m\u001b[0;34m\u001b[0m\u001b[0m\n\u001b[0m",
      "\u001b[0;31mAttributeError\u001b[0m: module 'plotly.express' has no attribute 'relplot'"
     ]
    }
   ],
   "source": [
    "sb.catplot(x='la_bucket', y='buggy', data=df, kind='point', height=7, aspect=2)"
   ]
  },
  {
   "cell_type": "code",
   "execution_count": 32,
   "metadata": {},
   "outputs": [],
   "source": [
    "def f(a: int, b: int) -> int:\n",
    "    print(locals())\n",
    "    return a + b\n"
   ]
  },
  {
   "cell_type": "code",
   "execution_count": 33,
   "metadata": {},
   "outputs": [
    {
     "ename": "TypeError",
     "evalue": "f() got an unexpected keyword argument '__c'",
     "output_type": "error",
     "traceback": [
      "\u001b[0;31m---------------------------------------------------------------------------\u001b[0m",
      "\u001b[0;31mTypeError\u001b[0m                                 Traceback (most recent call last)",
      "\u001b[0;32m<ipython-input-33-8454df9329db>\u001b[0m in \u001b[0;36m<module>\u001b[0;34m\u001b[0m\n\u001b[0;32m----> 1\u001b[0;31m \u001b[0mf\u001b[0m\u001b[0;34m(\u001b[0m\u001b[0;34m**\u001b[0m\u001b[0;34m{\u001b[0m\u001b[0;34m'a'\u001b[0m\u001b[0;34m:\u001b[0m\u001b[0;36m3\u001b[0m\u001b[0;34m,\u001b[0m\u001b[0;34m'b'\u001b[0m\u001b[0;34m:\u001b[0m\u001b[0;36m5\u001b[0m\u001b[0;34m,\u001b[0m\u001b[0;34m'__c'\u001b[0m\u001b[0;34m:\u001b[0m\u001b[0;36m6\u001b[0m\u001b[0;34m}\u001b[0m\u001b[0;34m)\u001b[0m\u001b[0;34m\u001b[0m\u001b[0;34m\u001b[0m\u001b[0m\n\u001b[0m",
      "\u001b[0;31mTypeError\u001b[0m: f() got an unexpected keyword argument '__c'"
     ]
    }
   ],
   "source": [
    "f(**{'a':3,'b':5,'__c':6})"
   ]
  },
  {
   "cell_type": "code",
   "execution_count": 34,
   "metadata": {},
   "outputs": [
    {
     "name": "stdout",
     "output_type": "stream",
     "text": [
      "{'a': 3, 'b': 5}\n"
     ]
    },
    {
     "data": {
      "text/plain": [
       "8"
      ]
     },
     "execution_count": 34,
     "metadata": {},
     "output_type": "execute_result"
    }
   ],
   "source": [
    "f(**{'a':3,'b':5})"
   ]
  },
  {
   "cell_type": "code",
   "execution_count": null,
   "metadata": {},
   "outputs": [],
   "source": []
  }
 ],
 "metadata": {
  "kernelspec": {
   "display_name": "jit-def-pred",
   "language": "python",
   "name": "jit-def-pred"
  },
  "language_info": {
   "codemirror_mode": {
    "name": "ipython",
    "version": 3
   },
   "file_extension": ".py",
   "mimetype": "text/x-python",
   "name": "python",
   "nbconvert_exporter": "python",
   "pygments_lexer": "ipython3",
   "version": "3.7.5"
  }
 },
 "nbformat": 4,
 "nbformat_minor": 4
}
